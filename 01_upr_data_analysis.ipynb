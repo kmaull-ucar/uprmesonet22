{
 "cells": [
  {
   "cell_type": "code",
   "execution_count": 1,
   "id": "c10cf369",
   "metadata": {},
   "outputs": [],
   "source": [
    "import pandas as pd\n",
    "import json"
   ]
  },
  {
   "cell_type": "code",
   "execution_count": 2,
   "id": "6218b769",
   "metadata": {},
   "outputs": [
    {
     "data": {
      "text/html": [
       "<div>\n",
       "<style scoped>\n",
       "    .dataframe tbody tr th:only-of-type {\n",
       "        vertical-align: middle;\n",
       "    }\n",
       "\n",
       "    .dataframe tbody tr th {\n",
       "        vertical-align: top;\n",
       "    }\n",
       "\n",
       "    .dataframe thead th {\n",
       "        text-align: right;\n",
       "    }\n",
       "</style>\n",
       "<table border=\"1\" class=\"dataframe\">\n",
       "  <thead>\n",
       "    <tr style=\"text-align: right;\">\n",
       "      <th></th>\n",
       "      <th>Time</th>\n",
       "      <th>Temperature</th>\n",
       "      <th>Humidity</th>\n",
       "      <th>Pressure</th>\n",
       "      <th>Volatile Organic Compound</th>\n",
       "      <th>Precipitation</th>\n",
       "      <th>windspeed</th>\n",
       "      <th>UV-A Radiation</th>\n",
       "    </tr>\n",
       "  </thead>\n",
       "  <tbody>\n",
       "    <tr>\n",
       "      <th>0</th>\n",
       "      <td>2021-10-07T12:43:15Z</td>\n",
       "      <td>NaN</td>\n",
       "      <td>96.833</td>\n",
       "      <td>NaN</td>\n",
       "      <td>NaN</td>\n",
       "      <td>NaN</td>\n",
       "      <td>NaN</td>\n",
       "      <td>NaN</td>\n",
       "    </tr>\n",
       "    <tr>\n",
       "      <th>1</th>\n",
       "      <td>2021-10-07T12:43:16Z</td>\n",
       "      <td>NaN</td>\n",
       "      <td>96.833</td>\n",
       "      <td>NaN</td>\n",
       "      <td>NaN</td>\n",
       "      <td>NaN</td>\n",
       "      <td>NaN</td>\n",
       "      <td>NaN</td>\n",
       "    </tr>\n",
       "    <tr>\n",
       "      <th>2</th>\n",
       "      <td>2021-10-07T12:43:18Z</td>\n",
       "      <td>NaN</td>\n",
       "      <td>96.833</td>\n",
       "      <td>NaN</td>\n",
       "      <td>NaN</td>\n",
       "      <td>NaN</td>\n",
       "      <td>NaN</td>\n",
       "      <td>NaN</td>\n",
       "    </tr>\n",
       "    <tr>\n",
       "      <th>3</th>\n",
       "      <td>2021-10-07T12:43:26Z</td>\n",
       "      <td>NaN</td>\n",
       "      <td>96.833</td>\n",
       "      <td>NaN</td>\n",
       "      <td>NaN</td>\n",
       "      <td>NaN</td>\n",
       "      <td>NaN</td>\n",
       "      <td>NaN</td>\n",
       "    </tr>\n",
       "    <tr>\n",
       "      <th>4</th>\n",
       "      <td>2021-10-07T12:43:35Z</td>\n",
       "      <td>NaN</td>\n",
       "      <td>96.833</td>\n",
       "      <td>NaN</td>\n",
       "      <td>NaN</td>\n",
       "      <td>NaN</td>\n",
       "      <td>NaN</td>\n",
       "      <td>NaN</td>\n",
       "    </tr>\n",
       "    <tr>\n",
       "      <th>...</th>\n",
       "      <td>...</td>\n",
       "      <td>...</td>\n",
       "      <td>...</td>\n",
       "      <td>...</td>\n",
       "      <td>...</td>\n",
       "      <td>...</td>\n",
       "      <td>...</td>\n",
       "      <td>...</td>\n",
       "    </tr>\n",
       "    <tr>\n",
       "      <th>375</th>\n",
       "      <td>2021-10-07T13:27:48Z</td>\n",
       "      <td>NaN</td>\n",
       "      <td>0.000</td>\n",
       "      <td>NaN</td>\n",
       "      <td>NaN</td>\n",
       "      <td>NaN</td>\n",
       "      <td>NaN</td>\n",
       "      <td>NaN</td>\n",
       "    </tr>\n",
       "    <tr>\n",
       "      <th>376</th>\n",
       "      <td>2021-10-07T13:28:03Z</td>\n",
       "      <td>NaN</td>\n",
       "      <td>0.000</td>\n",
       "      <td>NaN</td>\n",
       "      <td>NaN</td>\n",
       "      <td>NaN</td>\n",
       "      <td>NaN</td>\n",
       "      <td>NaN</td>\n",
       "    </tr>\n",
       "    <tr>\n",
       "      <th>377</th>\n",
       "      <td>2021-10-07T13:28:04Z</td>\n",
       "      <td>NaN</td>\n",
       "      <td>0.000</td>\n",
       "      <td>NaN</td>\n",
       "      <td>NaN</td>\n",
       "      <td>NaN</td>\n",
       "      <td>NaN</td>\n",
       "      <td>NaN</td>\n",
       "    </tr>\n",
       "    <tr>\n",
       "      <th>378</th>\n",
       "      <td>2021-10-07T13:28:12Z</td>\n",
       "      <td>NaN</td>\n",
       "      <td>0.000</td>\n",
       "      <td>NaN</td>\n",
       "      <td>NaN</td>\n",
       "      <td>NaN</td>\n",
       "      <td>NaN</td>\n",
       "      <td>NaN</td>\n",
       "    </tr>\n",
       "    <tr>\n",
       "      <th>379</th>\n",
       "      <td>2021-10-07T13:28:13Z</td>\n",
       "      <td>NaN</td>\n",
       "      <td>0.000</td>\n",
       "      <td>NaN</td>\n",
       "      <td>NaN</td>\n",
       "      <td>NaN</td>\n",
       "      <td>NaN</td>\n",
       "      <td>NaN</td>\n",
       "    </tr>\n",
       "  </tbody>\n",
       "</table>\n",
       "<p>380 rows × 8 columns</p>\n",
       "</div>"
      ],
      "text/plain": [
       "                     Time  Temperature  Humidity  Pressure  \\\n",
       "0    2021-10-07T12:43:15Z          NaN    96.833       NaN   \n",
       "1    2021-10-07T12:43:16Z          NaN    96.833       NaN   \n",
       "2    2021-10-07T12:43:18Z          NaN    96.833       NaN   \n",
       "3    2021-10-07T12:43:26Z          NaN    96.833       NaN   \n",
       "4    2021-10-07T12:43:35Z          NaN    96.833       NaN   \n",
       "..                    ...          ...       ...       ...   \n",
       "375  2021-10-07T13:27:48Z          NaN     0.000       NaN   \n",
       "376  2021-10-07T13:28:03Z          NaN     0.000       NaN   \n",
       "377  2021-10-07T13:28:04Z          NaN     0.000       NaN   \n",
       "378  2021-10-07T13:28:12Z          NaN     0.000       NaN   \n",
       "379  2021-10-07T13:28:13Z          NaN     0.000       NaN   \n",
       "\n",
       "     Volatile Organic Compound  Precipitation  windspeed  UV-A Radiation  \n",
       "0                          NaN            NaN        NaN             NaN  \n",
       "1                          NaN            NaN        NaN             NaN  \n",
       "2                          NaN            NaN        NaN             NaN  \n",
       "3                          NaN            NaN        NaN             NaN  \n",
       "4                          NaN            NaN        NaN             NaN  \n",
       "..                         ...            ...        ...             ...  \n",
       "375                        NaN            NaN        NaN             NaN  \n",
       "376                        NaN            NaN        NaN             NaN  \n",
       "377                        NaN            NaN        NaN             NaN  \n",
       "378                        NaN            NaN        NaN             NaN  \n",
       "379                        NaN            NaN        NaN             NaN  \n",
       "\n",
       "[380 rows x 8 columns]"
      ]
     },
     "execution_count": 2,
     "metadata": {},
     "output_type": "execute_result"
    }
   ],
   "source": [
    "pd.read_csv(\"2021_pr_stefani_uprm.csv\", skiprows=18)"
   ]
  },
  {
   "cell_type": "code",
   "execution_count": 3,
   "id": "ed6b7514",
   "metadata": {},
   "outputs": [],
   "source": [
    "df = pd.read_csv(\"2021_pr_stefani_uprm.csv\", skiprows=18)"
   ]
  },
  {
   "cell_type": "code",
   "execution_count": 4,
   "id": "0c0b1599",
   "metadata": {},
   "outputs": [],
   "source": [
    "df = df.set_index('Time')"
   ]
  },
  {
   "cell_type": "code",
   "execution_count": 5,
   "id": "9c71384e",
   "metadata": {},
   "outputs": [],
   "source": [
    "%matplotlib inline"
   ]
  },
  {
   "cell_type": "code",
   "execution_count": 6,
   "id": "5284f218",
   "metadata": {},
   "outputs": [
    {
     "data": {
      "text/plain": [
       "<AxesSubplot:xlabel='Time'>"
      ]
     },
     "execution_count": 6,
     "metadata": {},
     "output_type": "execute_result"
    },
    {
     "data": {
      "image/png": "[encoded data removed]",
      "text/plain": [
       "<Figure size 432x288 with 1 Axes>"
      ]
     },
     "metadata": {
      "needs_background": "light"
     },
     "output_type": "display_data"
    }
   ],
   "source": [
    "df.Humidity.plot(kind='line')"
   ]
  }
 ],
 "metadata": {
  "kernelspec": {
   "display_name": "Python 3",
   "language": "python",
   "name": "python3"
  },
  "language_info": {
   "codemirror_mode": {
    "name": "ipython",
    "version": 3
   },
   "file_extension": ".py",
   "mimetype": "text/x-python",
   "name": "python",
   "nbconvert_exporter": "python",
   "pygments_lexer": "ipython3",
   "version": "3.8.11"
  }
 },
 "nbformat": 4,
 "nbformat_minor": 5
}
