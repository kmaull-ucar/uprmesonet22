{
 "cells": [
  {
   "cell_type": "markdown",
   "id": "aa590c16",
   "metadata": {},
   "source": [
    "# UPR Data Loading\n",
    "\n",
    "![](./api_screenshot.png)"
   ]
  },
  {
   "cell_type": "markdown",
   "id": "040c0cb0",
   "metadata": {},
   "source": [
    "We can also substitute `.json` for `.csv` and `.geojson`.  But we're most interested in `csv` since it is easier to work with in a DataFrame as shown in the next notebook."
   ]
  },
  {
   "cell_type": "markdown",
   "id": "c4b9fbd5",
   "metadata": {},
   "source": [
    "```\n",
    "http://pt2050dashboard-dev.tacc.utexas.edu/api/v1/data/12.geojson\n",
    "http://pt2050dashboard-dev.tacc.utexas.edu/api/v1/data/12.geojson?start=2015-08-01T00:30&end=2015-08-20T12:30\n",
    "```"
   ]
  },
  {
   "cell_type": "code",
   "execution_count": 1,
   "id": "cb0a1c89",
   "metadata": {},
   "outputs": [],
   "source": [
    "import pandas as pd\n",
    "import requests\n",
    "import json"
   ]
  },
  {
   "cell_type": "code",
   "execution_count": 2,
   "id": "7d06ce54",
   "metadata": {},
   "outputs": [],
   "source": [
    "api_key = \"\"\n",
    "email   = \"\"\n",
    "ext     = \"csv\""
   ]
  },
  {
   "cell_type": "code",
   "execution_count": 3,
   "id": "df6b9a27",
   "metadata": {},
   "outputs": [],
   "source": [
    "start = \"2021-06-01T00:00\"\n",
    "end   = \"2021-12-31T23:59\"\n",
    "url   = f\"http://pt2050dashboard-dev.tacc.utexas.edu/api/v1/data/12.{ext}?start={start}&end={end}&api_key={api_key}&email={email}\""
   ]
  },
  {
   "cell_type": "code",
   "execution_count": 4,
   "id": "a397dbf4",
   "metadata": {},
   "outputs": [],
   "source": [
    "r = requests.get(url)\n",
    "if r.status_code == 200:\n",
    "    if ext == 'json':\n",
    "        data = r.json()\n",
    "        json.dump(data, open(\"2021_pr_stefani_uprm.json\", \"w\", encoding=\"utf-8\"))\n",
    "    elif ext == 'csv':\n",
    "        data = r.content\n",
    "        with open(\"2021_pr_stefani_uprm.csv\", \"wb\") as fo:\n",
    "            fo.write(data)\n",
    "    else:\n",
    "        print('f[error] not a valid type')\n",
    "else:\n",
    "    print(f'[error] something when wrong : {r.status_code}')\n",
    "    print(r.content)"
   ]
  },
  {
   "cell_type": "markdown",
   "id": "15ff5a53",
   "metadata": {},
   "source": [
    "Go to the [next notebook](./01_upr_data_loading.ipynb) for analysis."
   ]
  }
 ],
 "metadata": {
  "kernelspec": {
   "display_name": "Python 3",
   "language": "python",
   "name": "python3"
  },
  "language_info": {
   "codemirror_mode": {
    "name": "ipython",
    "version": 3
   },
   "file_extension": ".py",
   "mimetype": "text/x-python",
   "name": "python",
   "nbconvert_exporter": "python",
   "pygments_lexer": "ipython3",
   "version": "3.8.11"
  }
 },
 "nbformat": 4,
 "nbformat_minor": 5
}
